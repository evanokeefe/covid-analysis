{
 "metadata": {
  "language_info": {
   "codemirror_mode": {
    "name": "ipython",
    "version": 3
   },
   "file_extension": ".py",
   "mimetype": "text/x-python",
   "name": "python",
   "nbconvert_exporter": "python",
   "pygments_lexer": "ipython3",
   "version": "3.8.5-final"
  },
  "orig_nbformat": 2,
  "kernelspec": {
   "name": "python_defaultSpec_1600465274604",
   "display_name": "Python 3.8.5 64-bit ('solid-electrolyte': conda)"
  }
 },
 "nbformat": 4,
 "nbformat_minor": 2,
 "cells": [
  {
   "cell_type": "code",
   "execution_count": 79,
   "metadata": {
    "tags": []
   },
   "outputs": [
    {
     "output_type": "execute_result",
     "data": {
      "text/plain": "        UID iso2 iso3  code3    FIPS   Admin2 Province_State Country_Region  \\\n0  84001001   US  USA    840  1001.0  Autauga        Alabama             US   \n1  84001003   US  USA    840  1003.0  Baldwin        Alabama             US   \n2  84001005   US  USA    840  1005.0  Barbour        Alabama             US   \n3  84001007   US  USA    840  1007.0     Bibb        Alabama             US   \n4  84001009   US  USA    840  1009.0   Blount        Alabama             US   \n\n         Lat      Long_          Combined_Key  1/22/20  1/23/20  1/24/20  \\\n0  32.539527 -86.644082  Autauga, Alabama, US        0        0        0   \n1  30.727750 -87.722071  Baldwin, Alabama, US        0        0        0   \n2  31.868263 -85.387129  Barbour, Alabama, US        0        0        0   \n3  32.996421 -87.125115     Bibb, Alabama, US        0        0        0   \n4  33.982109 -86.567906   Blount, Alabama, US        0        0        0   \n\n   1/25/20  1/26/20  1/27/20  1/28/20  \n0        0        0        0        0  \n1        0        0        0        0  \n2        0        0        0        0  \n3        0        0        0        0  \n4        0        0        0        0  ",
      "text/html": "<div>\n<style scoped>\n    .dataframe tbody tr th:only-of-type {\n        vertical-align: middle;\n    }\n\n    .dataframe tbody tr th {\n        vertical-align: top;\n    }\n\n    .dataframe thead th {\n        text-align: right;\n    }\n</style>\n<table border=\"1\" class=\"dataframe\">\n  <thead>\n    <tr style=\"text-align: right;\">\n      <th></th>\n      <th>UID</th>\n      <th>iso2</th>\n      <th>iso3</th>\n      <th>code3</th>\n      <th>FIPS</th>\n      <th>Admin2</th>\n      <th>Province_State</th>\n      <th>Country_Region</th>\n      <th>Lat</th>\n      <th>Long_</th>\n      <th>Combined_Key</th>\n      <th>1/22/20</th>\n      <th>1/23/20</th>\n      <th>1/24/20</th>\n      <th>1/25/20</th>\n      <th>1/26/20</th>\n      <th>1/27/20</th>\n      <th>1/28/20</th>\n    </tr>\n  </thead>\n  <tbody>\n    <tr>\n      <th>0</th>\n      <td>84001001</td>\n      <td>US</td>\n      <td>USA</td>\n      <td>840</td>\n      <td>1001.0</td>\n      <td>Autauga</td>\n      <td>Alabama</td>\n      <td>US</td>\n      <td>32.539527</td>\n      <td>-86.644082</td>\n      <td>Autauga, Alabama, US</td>\n      <td>0</td>\n      <td>0</td>\n      <td>0</td>\n      <td>0</td>\n      <td>0</td>\n      <td>0</td>\n      <td>0</td>\n    </tr>\n    <tr>\n      <th>1</th>\n      <td>84001003</td>\n      <td>US</td>\n      <td>USA</td>\n      <td>840</td>\n      <td>1003.0</td>\n      <td>Baldwin</td>\n      <td>Alabama</td>\n      <td>US</td>\n      <td>30.727750</td>\n      <td>-87.722071</td>\n      <td>Baldwin, Alabama, US</td>\n      <td>0</td>\n      <td>0</td>\n      <td>0</td>\n      <td>0</td>\n      <td>0</td>\n      <td>0</td>\n      <td>0</td>\n    </tr>\n    <tr>\n      <th>2</th>\n      <td>84001005</td>\n      <td>US</td>\n      <td>USA</td>\n      <td>840</td>\n      <td>1005.0</td>\n      <td>Barbour</td>\n      <td>Alabama</td>\n      <td>US</td>\n      <td>31.868263</td>\n      <td>-85.387129</td>\n      <td>Barbour, Alabama, US</td>\n      <td>0</td>\n      <td>0</td>\n      <td>0</td>\n      <td>0</td>\n      <td>0</td>\n      <td>0</td>\n      <td>0</td>\n    </tr>\n    <tr>\n      <th>3</th>\n      <td>84001007</td>\n      <td>US</td>\n      <td>USA</td>\n      <td>840</td>\n      <td>1007.0</td>\n      <td>Bibb</td>\n      <td>Alabama</td>\n      <td>US</td>\n      <td>32.996421</td>\n      <td>-87.125115</td>\n      <td>Bibb, Alabama, US</td>\n      <td>0</td>\n      <td>0</td>\n      <td>0</td>\n      <td>0</td>\n      <td>0</td>\n      <td>0</td>\n      <td>0</td>\n    </tr>\n    <tr>\n      <th>4</th>\n      <td>84001009</td>\n      <td>US</td>\n      <td>USA</td>\n      <td>840</td>\n      <td>1009.0</td>\n      <td>Blount</td>\n      <td>Alabama</td>\n      <td>US</td>\n      <td>33.982109</td>\n      <td>-86.567906</td>\n      <td>Blount, Alabama, US</td>\n      <td>0</td>\n      <td>0</td>\n      <td>0</td>\n      <td>0</td>\n      <td>0</td>\n      <td>0</td>\n      <td>0</td>\n    </tr>\n  </tbody>\n</table>\n</div>"
     },
     "metadata": {},
     "execution_count": 79
    }
   ],
   "source": [
    "from covid import get_data, get_state\n",
    "import pandas as pd\n",
    "\n",
    "cases = 'https://raw.githubusercontent.com/CSSEGISandData/COVID-19/master/csse_covid_19_data/csse_covid_19_time_series/time_series_covid19_confirmed_US.csv'\n",
    "\n",
    "start = '1/29/20'\n",
    "end = '2/1/20'\n",
    "\n",
    "df = get_data(cases).head()\n",
    "headers = {head: idx for idx, head in enumerate(df.columns)}\n",
    "\n",
    "df"
   ]
  },
  {
   "cell_type": "code",
   "execution_count": 77,
   "metadata": {},
   "outputs": [
    {
     "output_type": "execute_result",
     "data": {
      "text/plain": "Index(['2/17/20', '2/18/20', '2/19/20', '2/20/20', '2/21/20', '2/22/20',\n       '2/23/20', '2/24/20', '2/25/20', '2/26/20',\n       ...\n       '9/7/20', '9/8/20', '9/9/20', '9/10/20', '9/11/20', '9/12/20',\n       '9/13/20', '9/14/20', '9/15/20', '9/16/20'],\n      dtype='object', length=213)"
     },
     "metadata": {},
     "execution_count": 77
    }
   ],
   "source": []
  },
  {
   "cell_type": "code",
   "execution_count": null,
   "metadata": {},
   "outputs": [],
   "source": []
  }
 ]
}